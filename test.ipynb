{
 "cells": [
  {
   "cell_type": "code",
   "execution_count": null,
   "metadata": {
    "colab": {
     "base_uri": "https://localhost:8080/"
    },
    "id": "x713_tA0xSyW",
    "outputId": "b203b33a-6271-4747-ffe4-9de6b1045256"
   },
   "outputs": [],
   "source": [
    "from google.colab import drive\n",
    "drive.mount('/content/gdrive')"
   ]
  },
  {
   "cell_type": "markdown",
   "metadata": {
    "id": "43jeQd3l5izk"
   },
   "source": [
    "#Transfer Learning Model Analysis"
   ]
  },
  {
   "cell_type": "markdown",
   "metadata": {
    "id": "dcPCMEIH0a9X"
   },
   "source": [
    "##PreProcessing"
   ]
  },
  {
   "cell_type": "code",
   "execution_count": null,
   "metadata": {
    "id": "zhwHz1lD9lAD"
   },
   "outputs": [],
   "source": [
    "# import libraries\n",
    "import os\n",
    "import matplotlib.pyplot as plt\n",
    "import seaborn as sns\n",
    "import tensorflow as tf\n",
    "from tensorflow import keras\n",
    "from keras.layers import Conv2D, Dense, MaxPool2D, GlobalAveragePooling2D, Dropout, Flatten\n",
    "from keras.models import Sequential, Model\n",
    "from keras.preprocessing.image import ImageDataGenerator\n",
    "from tensorflow.keras.optimizers import Adam\n",
    "from sklearn.model_selection import train_test_split\n",
    "from sklearn.metrics import classification_report,confusion_matrix\n",
    "import numpy as np\n",
    "import cv2\n",
    "from tqdm import tqdm\n",
    "import random\n",
    "import time\n",
    "from keras.models import Model\n",
    "from keras.layers.core import Flatten, Dense, Dropout\n",
    "from keras.layers import Conv2D, MaxPooling2D,Input,AveragePooling2D\n",
    "from keras.callbacks import EarlyStopping\n",
    "import matplotlib.pyplot as plt\n",
    "%matplotlib inline"
   ]
  },
  {
   "cell_type": "code",
   "execution_count": null,
   "metadata": {
    "id": "mGZBz0lQVReV"
   },
   "outputs": [],
   "source": [
    "#listing directories of training and testing images\n",
    "train_dir=\"/content/gdrive/MyDrive/RM-Project/Training\"\n",
    "test_dir=\"/content/gdrive/MyDrive/RM-Project/Testing\""
   ]
  },
  {
   "cell_type": "code",
   "execution_count": null,
   "metadata": {
    "colab": {
     "base_uri": "https://localhost:8080/"
    },
    "id": "-p3Gp3qOVRSw",
    "outputId": "0379b13e-f008-4837-ce4f-09e25f8bfce7"
   },
   "outputs": [],
   "source": [
    "#preprocessing and generating training validation and testing dataset\n",
    "from keras.preprocessing.image import ImageDataGenerator\n",
    "trainDataGen=ImageDataGenerator(\n",
    "    rescale=1./255, #rescale\n",
    "    validation_split=0.1, #validation split\n",
    "    zoom_range=0.2, #zoom to create augmented sample\n",
    ")\n",
    "testDataGen=ImageDataGenerator(rescale=1./255) #rescaling\n",
    "\n",
    "trainGen=trainDataGen.flow_from_directory(train_dir,\n",
    "                                          target_size=(224,224), #image size\n",
    "                                          color_mode='rgb', #color mode of image\n",
    "                                          class_mode='categorical', #label to be categorized\n",
    "                                          batch_size=128, #specifying batch size\n",
    "                                          subset='training'\n",
    "                                         )\n",
    "testGen=testDataGen.flow_from_directory(test_dir, target_size=(224,224),color_mode='rgb',class_mode='categorical',batch_size=1)\n",
    "\n",
    "valGen=trainDataGen.flow_from_directory(train_dir, target_size=(224,224),color_mode='rgb',class_mode='categorical',batch_size=128,subset='validation')"
   ]
  },
  {
   "cell_type": "markdown",
   "metadata": {
    "id": "8EE68TTy3fxy"
   },
   "source": [
    "##VGG16"
   ]
  },
  {
   "cell_type": "code",
   "execution_count": null,
   "metadata": {
    "id": "DUf0rnkq3iPh"
   },
   "outputs": [],
   "source": [
    "from keras.applications.vgg16 import VGG16"
   ]
  },
  {
   "cell_type": "code",
   "execution_count": null,
   "metadata": {
    "colab": {
     "base_uri": "https://localhost:8080/"
    },
    "id": "ij-S1ar33qRw",
    "outputId": "f1597c72-82b2-4ff5-d5df-b1aa53f38a3d"
   },
   "outputs": [],
   "source": [
    "base_model=VGG16(input_shape=(224,224,3),include_top=False,weights='imagenet')\n",
    "\n",
    "for layer in base_model.layers:\n",
    "  layer.trainable=False\n",
    "\n",
    "x=Flatten()(base_model.output)\n",
    "x=Dense(1024,activation='relu')(x)\n",
    "x=Dropout(0.4)(x)\n",
    "x=Dense(1024,activation='relu')(x)\n",
    "out=Dense(4,activation='softmax')(x)\n",
    "\n",
    "model=Model(inputs=base_model.inputs,outputs=out)\n",
    "model.summary()"
   ]
  },
  {
   "cell_type": "code",
   "execution_count": null,
   "metadata": {
    "id": "0DSZa3ah3qOW"
   },
   "outputs": [],
   "source": [
    "callbacks=[EarlyStopping(monitor='val_loss',patience=10)]\n",
    "\n",
    "model.compile(loss=\"categorical_crossentropy\",optimizer=\"Adam\",metrics=[\"accuracy\"])"
   ]
  },
  {
   "cell_type": "code",
   "execution_count": null,
   "metadata": {
    "colab": {
     "base_uri": "https://localhost:8080/"
    },
    "id": "E-I8R1p_3qLX",
    "outputId": "66a59dc1-37df-48ce-ca28-2bbff1e16956"
   },
   "outputs": [],
   "source": [
    "steps_per_epochs=trainGen.samples//128\n",
    "print(steps_per_epochs)\n",
    "validation_steps_=valGen.samples//128\n",
    "print(validation_steps_)"
   ]
  },
  {
   "cell_type": "code",
   "execution_count": null,
   "metadata": {
    "colab": {
     "base_uri": "https://localhost:8080/"
    },
    "id": "0ZYzGFjg3qIf",
    "outputId": "e45b925b-96c2-4326-fbf2-3ad0d35bbaaa"
   },
   "outputs": [],
   "source": [
    "start = time.time()\n",
    "history=model.fit(trainGen,validation_data=valGen,epochs=50,callbacks=callbacks, verbose=1)\n",
    "end = time.time()\n",
    "print(\"Execution time\", end-start)"
   ]
  },
  {
   "cell_type": "code",
   "execution_count": null,
   "metadata": {
    "colab": {
     "base_uri": "https://localhost:8080/",
     "height": 364
    },
    "id": "BaA106bI3qFg",
    "outputId": "cf11679b-32a4-4055-d7b0-0984ceeb1536"
   },
   "outputs": [],
   "source": [
    "# Extract training and validation accuracy, and training and validation loss from history object\n",
    "acc = history.history['accuracy']\n",
    "val_acc = history.history['val_accuracy']\n",
    "loss = history.history['loss']\n",
    "val_loss = history.history['val_loss']\n",
    "\n",
    "# Define epochs range based on length of history object\n",
    "epochs_range = range(len(history.history['accuracy']))\n",
    "\n",
    "# Create subplots to display accuracy and loss graphs side by side\n",
    "fig, axs = plt.subplots(1, 2, figsize=(18, 6))\n",
    "\n",
    "# Plot Training and Validation Accuracy on first subplot\n",
    "axs[0].plot(epochs_range, acc, label='Training Accuracy', marker='o')\n",
    "axs[0].plot(epochs_range, val_acc, label='Validation Accuracy', marker='o')\n",
    "axs[0].set_title('Training and Validation Accuracy')\n",
    "axs[0].set_xlabel('Epochs')\n",
    "axs[0].set_ylabel('Accuracy')\n",
    "axs[0].legend(loc='lower right')\n",
    "\n",
    "# Plot Training and Validation Loss on second subplot\n",
    "axs[1].plot(epochs_range, loss, label='Training Loss', marker='o')\n",
    "axs[1].plot(epochs_range, val_loss, label='Validation Loss', marker='o')\n",
    "axs[1].set_title('Training and Validation Loss')\n",
    "axs[1].set_xlabel('Epochs')\n",
    "axs[1].set_ylabel('Loss')\n",
    "axs[1].legend(loc='upper right')\n",
    "\n",
    "# Add vertical lines to indicate best accuracy and lowest loss for training and validation\n",
    "best_val_acc_epoch = np.argmax(val_acc)\n",
    "best_val_loss_epoch = np.argmin(val_loss)\n",
    "best_train_acc_epoch = np.argmax(acc)\n",
    "best_train_loss_epoch = np.argmin(loss)\n",
    "\n",
    "axs[0].axvline(x=best_val_acc_epoch, color='gray', linestyle='--')\n",
    "axs[0].text(best_val_acc_epoch+0.5, val_acc[best_val_acc_epoch]-0.1, 'Best Val Acc', fontsize=10, color='gray')\n",
    "\n",
    "axs[0].axvline(x=best_train_acc_epoch, color='orange', linestyle='--')\n",
    "axs[0].text(best_train_acc_epoch+0.5, acc[best_train_acc_epoch]-0.1, 'Best Train Acc', fontsize=10, color='orange')\n",
    "\n",
    "axs[1].axvline(x=best_val_loss_epoch, color='gray', linestyle='--')\n",
    "axs[1].text(best_val_loss_epoch+0.5, val_loss[best_val_loss_epoch]+0.1, 'Best Val Loss', fontsize=10, color='gray')\n",
    "\n",
    "axs[1].axvline(x=best_train_loss_epoch, color='orange', linestyle='--')\n",
    "axs[1].text(best_train_loss_epoch+0.5, loss[best_train_loss_epoch]+0.1, 'Best Train Loss', fontsize=10, color='orange')\n",
    "\n",
    "# Add horizontal line to indicate convergence of accuracy and loss\n",
    "axs[0].axhline(y=1.0, color='red', linestyle='--')\n",
    "axs[0].text(0, 1.01, 'Converged', fontsize=10, color='red')\n",
    "\n",
    "axs[1].axhline(y=0.0, color='red', linestyle='--')\n",
    "axs[1].text(0, -0.1, 'Converged', fontsize=10, color='red')\n",
    "\n",
    "# Adjust subplots spacing and display the plot\n",
    "fig.tight_layout(pad=3.0)\n",
    "plt.show()\n"
   ]
  },
  {
   "cell_type": "code",
   "execution_count": null,
   "metadata": {
    "colab": {
     "base_uri": "https://localhost:8080/"
    },
    "id": "k2UmXV_z3qCR",
    "outputId": "43d6ece0-c698-48b3-870c-450948822930"
   },
   "outputs": [],
   "source": [
    "# evaluating the model\n",
    "model_evaluation = model.evaluate(testGen)"
   ]
  },
  {
   "cell_type": "code",
   "execution_count": null,
   "metadata": {
    "id": "Y1n7kulW3p_M"
   },
   "outputs": [],
   "source": [
    "print(f\"Model Accuracy:{model_evaluation[1] *100: 0.2f} %\") #Calculating accuracy"
   ]
  },
  {
   "cell_type": "markdown",
   "metadata": {
    "id": "M5cjeulx3D_C"
   },
   "source": [
    "##VGG19"
   ]
  },
  {
   "cell_type": "code",
   "execution_count": null,
   "metadata": {
    "id": "fvFTiVDo3HNV"
   },
   "outputs": [],
   "source": [
    "from keras.applications.vgg19 import VGG19"
   ]
  },
  {
   "cell_type": "code",
   "execution_count": null,
   "metadata": {
    "colab": {
     "base_uri": "https://localhost:8080/"
    },
    "id": "R1JksK2Q3Ppa",
    "outputId": "ae526323-d8ae-43dd-b075-d21041f0badb"
   },
   "outputs": [],
   "source": [
    "from tensorflow.keras.applications.vgg19 import VGG19\n",
    "from tensorflow.keras.layers import Dense, Dropout, Flatten\n",
    "from tensorflow.keras.models import Model\n",
    "\n",
    "# Load pre-trained VGG19 model and set all layers to non-trainable\n",
    "base_model = VGG19(input_shape=(224, 224, 3), include_top=False, weights='imagenet')\n",
    "for layer in base_model.layers:\n",
    "    layer.trainable = False\n",
    "\n",
    "# Add custom layers on top of the pre-trained model\n",
    "x = Flatten()(base_model.output)\n",
    "x = Dense(1024, activation='relu')(x)\n",
    "x = Dropout(0.4)(x)\n",
    "x = Dense(1024, activation='relu')(x)\n",
    "out = Dense(4, activation='softmax')(x)\n",
    "\n",
    "# Create the final model by connecting the pre-trained model and custom layers\n",
    "model = Model(inputs=base_model.inputs, outputs=out)\n",
    "model.summary()\n"
   ]
  },
  {
   "cell_type": "code",
   "execution_count": null,
   "metadata": {
    "id": "ma0qvdw23PmT"
   },
   "outputs": [],
   "source": [
    "callbacks=[EarlyStopping(monitor='val_loss',patience=10)]\n",
    "\n",
    "model.compile(loss=\"categorical_crossentropy\",optimizer=\"Adam\",metrics=[\"accuracy\"])"
   ]
  },
  {
   "cell_type": "code",
   "execution_count": null,
   "metadata": {
    "colab": {
     "base_uri": "https://localhost:8080/"
    },
    "id": "11Neg2ui3PhX",
    "outputId": "5588559d-ebfe-4d8e-d75d-fc4a51d41fc9"
   },
   "outputs": [],
   "source": [
    "steps_per_epochs=trainGen.samples//128\n",
    "print(steps_per_epochs)\n",
    "validation_steps_=valGen.samples//128\n",
    "print(validation_steps_)"
   ]
  },
  {
   "cell_type": "code",
   "execution_count": null,
   "metadata": {
    "colab": {
     "base_uri": "https://localhost:8080/"
    },
    "id": "C7IetaCu3Pd9",
    "outputId": "018ac672-8e34-4ee1-edb6-f9974e2fdabb"
   },
   "outputs": [],
   "source": [
    "start = time.time()\n",
    "history=model.fit(trainGen,validation_data=valGen,epochs=50,callbacks=callbacks, verbose=1)\n",
    "end = time.time()\n",
    "print(\"Execution time\", end-start)"
   ]
  },
  {
   "cell_type": "code",
   "execution_count": null,
   "metadata": {
    "colab": {
     "base_uri": "https://localhost:8080/",
     "height": 526
    },
    "id": "MnRbTrtq3Pa7",
    "outputId": "bf280f98-690d-4397-d169-a4f4eed45d03"
   },
   "outputs": [],
   "source": [
    "# Plotting training and validation accuracy and loss\n",
    "\n",
    "acc = history.history['accuracy']\n",
    "val_acc = history.history['val_accuracy']\n",
    "loss = history.history['loss']\n",
    "val_loss = history.history['val_loss']\n",
    "epochs_range = range(len(history.history['accuracy']))\n",
    "\n",
    "plt.figure(figsize=(16, 8))\n",
    "\n",
    "# Plot training and validation accuracy\n",
    "plt.subplot(1, 2, 1)\n",
    "plt.plot(epochs_range, acc, label='Training Accuracy')\n",
    "plt.plot(epochs_range, val_acc, label='Validation Accuracy')\n",
    "plt.legend(loc='lower right', fontsize=14)\n",
    "plt.xlabel('Epoch', fontsize=16)\n",
    "plt.ylabel('Accuracy', fontsize=16)\n",
    "plt.title('Training and Validation Accuracy', fontsize=18)\n",
    "plt.xticks(fontsize=14)\n",
    "plt.yticks(fontsize=14)\n",
    "\n",
    "# Plot training and validation loss\n",
    "plt.subplot(1, 2, 2)\n",
    "plt.plot(epochs_range, loss, label='Training Loss')\n",
    "plt.plot(epochs_range, val_loss, label='Validation Loss')\n",
    "plt.legend(loc='upper right', fontsize=14)\n",
    "plt.xlabel('Epoch', fontsize=16)\n",
    "plt.ylabel('Loss', fontsize=16)\n",
    "plt.title('Training and Validation Loss', fontsize=18)\n",
    "plt.xticks(fontsize=14)\n",
    "plt.yticks(fontsize=14)\n",
    "\n",
    "plt.show()\n"
   ]
  },
  {
   "cell_type": "code",
   "execution_count": null,
   "metadata": {
    "colab": {
     "base_uri": "https://localhost:8080/"
    },
    "id": "wXIMKnxi3PXr",
    "outputId": "f9f75b3c-d8b2-4db6-bc5a-8286d8c52fc4"
   },
   "outputs": [],
   "source": [
    "# evaluating the model\n",
    "model_evaluation = model.evaluate(testGen)"
   ]
  },
  {
   "cell_type": "code",
   "execution_count": null,
   "metadata": {
    "colab": {
     "base_uri": "https://localhost:8080/"
    },
    "id": "kLbOgUOG3PUt",
    "outputId": "5fad634f-59ff-4181-aa0a-41d854775ac2"
   },
   "outputs": [],
   "source": [
    "print(f\"Model Accuracy:{model_evaluation[1] *100: 0.2f} %\") #Calculating accuracy"
   ]
  },
  {
   "cell_type": "markdown",
   "metadata": {
    "id": "FHPD2IuI2rZ6"
   },
   "source": [
    "##ResNet50"
   ]
  },
  {
   "cell_type": "code",
   "execution_count": null,
   "metadata": {
    "id": "8AVPWpls2up7"
   },
   "outputs": [],
   "source": [
    "from tensorflow.keras.applications import ResNet50"
   ]
  },
  {
   "cell_type": "code",
   "execution_count": null,
   "metadata": {
    "colab": {
     "base_uri": "https://localhost:8080/"
    },
    "id": "P7nC2eSR2wKF",
    "outputId": "231887a8-f92a-4c76-b4ba-992163fa0d71"
   },
   "outputs": [],
   "source": [
    "base_model=ResNet50(input_shape=(224,224,3),include_top=False,weights='imagenet')\n",
    "\n",
    "for layer in base_model.layers:\n",
    "  layer.trainable=False\n",
    "\n",
    "x=Flatten()(base_model.output)\n",
    "x=Dense(1024,activation='relu')(x)\n",
    "x=Dropout(0.4)(x)\n",
    "x=Dense(1024,activation='relu')(x)\n",
    "out=Dense(4,activation='softmax')(x)\n",
    "\n",
    "model=Model(inputs=base_model.inputs,outputs=out)\n",
    "model.summary()"
   ]
  },
  {
   "cell_type": "code",
   "execution_count": null,
   "metadata": {
    "id": "zYdyFNfg22SH"
   },
   "outputs": [],
   "source": [
    "callbacks=[EarlyStopping(monitor='val_loss',patience=10)]\n",
    "\n",
    "model.compile(loss=\"categorical_crossentropy\",optimizer=\"Adam\",metrics=[\"accuracy\"])"
   ]
  },
  {
   "cell_type": "code",
   "execution_count": null,
   "metadata": {
    "colab": {
     "base_uri": "https://localhost:8080/"
    },
    "id": "qP8gap9x22P7",
    "outputId": "3f4fab49-a716-427f-cdfa-f4e564ed8aa8"
   },
   "outputs": [],
   "source": [
    "steps_per_epochs=trainGen.samples//128\n",
    "print(steps_per_epochs)\n",
    "validation_steps_=valGen.samples//128\n",
    "print(validation_steps_)"
   ]
  },
  {
   "cell_type": "code",
   "execution_count": null,
   "metadata": {
    "colab": {
     "base_uri": "https://localhost:8080/"
    },
    "id": "DztZbddG22Nx",
    "outputId": "e60c4a44-9bd9-4ae3-aceb-6ed0af67ddd6"
   },
   "outputs": [],
   "source": [
    "start = time.time()\n",
    "history=model.fit(trainGen,validation_data=valGen,epochs=50,callbacks=callbacks, verbose=1)\n",
    "end = time.time()\n",
    "print(\"Execution time\", end-start)"
   ]
  },
  {
   "cell_type": "code",
   "execution_count": null,
   "metadata": {
    "colab": {
     "base_uri": "https://localhost:8080/",
     "height": 390
    },
    "id": "Hv2iP8hq22J9",
    "outputId": "5eec1793-93f8-4563-9165-1125b777ec75"
   },
   "outputs": [],
   "source": [
    "acc = history.history['accuracy']\n",
    "val_acc = history.history['val_accuracy']\n",
    "\n",
    "loss = history.history['loss']\n",
    "val_loss = history.history['val_loss']\n",
    "\n",
    "epochs_range = range(len(history.history['accuracy']))\n",
    "\n",
    "plt.figure(figsize=(18, 6))\n",
    "plt.subplot(1, 2, 1)\n",
    "plt.plot(range(len(history.history['accuracy'])), acc, label='Training Accuracy')\n",
    "plt.plot(epochs_range, val_acc, label='Validation Accuracy')\n",
    "plt.legend(loc='upper right')\n",
    "plt.title('Training and Validation Accuracy')\n",
    "\n",
    "plt.subplot(1, 2, 2)\n",
    "plt.plot(epochs_range, loss, label='Training Loss')\n",
    "plt.plot(epochs_range, val_loss, label='Validation Loss')\n",
    "plt.legend(loc='upper right')\n",
    "plt.title('Training and Validation Loss')\n",
    "plt.show()"
   ]
  },
  {
   "cell_type": "code",
   "execution_count": null,
   "metadata": {
    "colab": {
     "base_uri": "https://localhost:8080/"
    },
    "id": "qnQQCWpS22G2",
    "outputId": "2d301ff1-4848-431e-f3b7-bdc33b63e1d3"
   },
   "outputs": [],
   "source": [
    "# evaluating the model\n",
    "model_evaluation = model.evaluate(testGen)"
   ]
  },
  {
   "cell_type": "code",
   "execution_count": null,
   "metadata": {
    "colab": {
     "base_uri": "https://localhost:8080/"
    },
    "id": "byyCUKjc22DQ",
    "outputId": "6397e4ef-f054-4add-f73e-de17e2d8a21c"
   },
   "outputs": [],
   "source": [
    "print(f\"Model Accuracy:{model_evaluation[1] *100: 0.2f} %\") #Calculating accuracy"
   ]
  },
  {
   "cell_type": "markdown",
   "metadata": {
    "id": "_1JsLrU417pT"
   },
   "source": [
    "##ResNet101"
   ]
  },
  {
   "cell_type": "code",
   "execution_count": null,
   "metadata": {
    "id": "yXduUvDH1-wR"
   },
   "outputs": [],
   "source": [
    "from tensorflow.keras.applications import ResNet101"
   ]
  },
  {
   "cell_type": "code",
   "execution_count": null,
   "metadata": {
    "colab": {
     "base_uri": "https://localhost:8080/"
    },
    "id": "ue1CXkPq2NOL",
    "outputId": "536a2deb-1ab3-4e2b-8aea-dbebe7a226d7"
   },
   "outputs": [],
   "source": [
    "base_model=ResNet101(input_shape=(224,224,3),include_top=False,weights='imagenet')\n",
    "\n",
    "for layer in base_model.layers:\n",
    "  layer.trainable=False\n",
    "\n",
    "x=Flatten()(base_model.output)\n",
    "x=Dense(1024,activation='relu')(x)\n",
    "x=Dropout(0.4)(x)\n",
    "x=Dense(1024,activation='relu')(x)\n",
    "out=Dense(4,activation='softmax')(x)\n",
    "\n",
    "model=Model(inputs=base_model.inputs,outputs=out)\n",
    "model.summary()"
   ]
  },
  {
   "cell_type": "code",
   "execution_count": null,
   "metadata": {
    "id": "qyNkQbio2NMI"
   },
   "outputs": [],
   "source": [
    "callbacks=[EarlyStopping(monitor='val_loss',patience=10)]\n",
    "\n",
    "model.compile(loss=\"categorical_crossentropy\",optimizer=\"Adam\",metrics=[\"accuracy\"])"
   ]
  },
  {
   "cell_type": "code",
   "execution_count": null,
   "metadata": {
    "colab": {
     "base_uri": "https://localhost:8080/"
    },
    "id": "oMraAgTo2NIW",
    "outputId": "1e97b178-b688-4d4b-859e-ccedfd2a324d"
   },
   "outputs": [],
   "source": [
    "steps_per_epochs=trainGen.samples//128\n",
    "print(steps_per_epochs)\n",
    "validation_steps_=valGen.samples//128\n",
    "print(validation_steps_)"
   ]
  },
  {
   "cell_type": "code",
   "execution_count": null,
   "metadata": {
    "colab": {
     "base_uri": "https://localhost:8080/"
    },
    "id": "XjBjFVmv2NFX",
    "outputId": "0a2405b4-0bed-4676-db35-4afde262f6bd"
   },
   "outputs": [],
   "source": [
    "start = time.time()\n",
    "history=model.fit(trainGen,validation_data=valGen,epochs=50,callbacks=callbacks, verbose=1)\n",
    "end = time.time()\n",
    "print(\"Execution time\", end-start)"
   ]
  },
  {
   "cell_type": "code",
   "execution_count": null,
   "metadata": {
    "colab": {
     "base_uri": "https://localhost:8080/",
     "height": 390
    },
    "id": "Ur9CIY1R2NCI",
    "outputId": "5fe2722b-682f-495d-9ef4-f411e8f6fb28"
   },
   "outputs": [],
   "source": [
    "acc = history.history['accuracy']\n",
    "val_acc = history.history['val_accuracy']\n",
    "\n",
    "loss = history.history['loss']\n",
    "val_loss = history.history['val_loss']\n",
    "\n",
    "epochs_range = range(len(history.history['accuracy']))\n",
    "\n",
    "plt.figure(figsize=(18, 6))\n",
    "plt.subplot(1, 2, 1)\n",
    "plt.plot(range(len(history.history['accuracy'])), acc, label='Training Accuracy')\n",
    "plt.plot(epochs_range, val_acc, label='Validation Accuracy')\n",
    "plt.legend(loc='upper right')\n",
    "plt.title('Training and Validation Accuracy')\n",
    "\n",
    "plt.subplot(1, 2, 2)\n",
    "plt.plot(epochs_range, loss, label='Training Loss')\n",
    "plt.plot(epochs_range, val_loss, label='Validation Loss')\n",
    "plt.legend(loc='upper right')\n",
    "plt.title('Training and Validation Loss')\n",
    "plt.show()"
   ]
  },
  {
   "cell_type": "code",
   "execution_count": null,
   "metadata": {
    "colab": {
     "base_uri": "https://localhost:8080/"
    },
    "id": "EROjv4fR2M_A",
    "outputId": "8f8e5fb0-55d0-4de4-aead-c90915156b81"
   },
   "outputs": [],
   "source": [
    "# evaluating the model\n",
    "model_evaluation = model.evaluate(testGen)"
   ]
  },
  {
   "cell_type": "code",
   "execution_count": null,
   "metadata": {
    "colab": {
     "base_uri": "https://localhost:8080/"
    },
    "id": "M5iPCxOu2M7y",
    "outputId": "1147258f-85cf-4c86-e803-f8a38c5320e3"
   },
   "outputs": [],
   "source": [
    "print(f\"Model Accuracy:{model_evaluation[1] *100: 0.2f} %\") #Calculating accuracy"
   ]
  },
  {
   "cell_type": "markdown",
   "metadata": {
    "id": "aw3WsmB60fXH"
   },
   "source": [
    "##DenseNet121"
   ]
  },
  {
   "cell_type": "code",
   "execution_count": null,
   "metadata": {
    "id": "Q8Tn8gc30etK"
   },
   "outputs": [],
   "source": [
    "from tensorflow.keras.applications import DenseNet121"
   ]
  },
  {
   "cell_type": "code",
   "execution_count": null,
   "metadata": {
    "colab": {
     "base_uri": "https://localhost:8080/"
    },
    "id": "umwIJK710jCE",
    "outputId": "5b384a20-bdde-4760-a9cf-a7d0ae216640"
   },
   "outputs": [],
   "source": [
    "base_model=DenseNet121(input_shape=(224,224,3),include_top=False,weights='imagenet')\n",
    "\n",
    "for layer in base_model.layers:\n",
    "  layer.trainable=False\n",
    "\n",
    "x=Flatten()(base_model.output)\n",
    "x=Dense(1024,activation='relu')(x)\n",
    "x=Dropout(0.4)(x)\n",
    "x=Dense(1024,activation='relu')(x)\n",
    "out=Dense(4,activation='softmax')(x)\n",
    "\n",
    "model=Model(inputs=base_model.inputs,outputs=out)\n",
    "model.summary()"
   ]
  },
  {
   "cell_type": "code",
   "execution_count": null,
   "metadata": {
    "id": "Tz1WWwzc05eE"
   },
   "outputs": [],
   "source": [
    "callbacks=[EarlyStopping(monitor='val_loss',patience=10)]\n",
    "\n",
    "model.compile(loss=\"categorical_crossentropy\",optimizer=\"Adam\",metrics=[\"accuracy\"])"
   ]
  },
  {
   "cell_type": "code",
   "execution_count": null,
   "metadata": {
    "colab": {
     "base_uri": "https://localhost:8080/"
    },
    "id": "uD-ki-q505bX",
    "outputId": "0e985626-dad0-48bd-a036-29d9cd925369"
   },
   "outputs": [],
   "source": [
    "steps_per_epochs=trainGen.samples//128\n",
    "print(steps_per_epochs)\n",
    "validation_steps_=valGen.samples//128\n",
    "print(validation_steps_)"
   ]
  },
  {
   "cell_type": "code",
   "execution_count": null,
   "metadata": {
    "colab": {
     "base_uri": "https://localhost:8080/"
    },
    "id": "U5MDVMj305U5",
    "outputId": "8a11c07e-1e51-499e-fc4d-46fad2372eb6"
   },
   "outputs": [],
   "source": [
    "start = time.time()\n",
    "history=model.fit(trainGen,validation_data=valGen,epochs=50,callbacks=callbacks, verbose=1)\n",
    "end = time.time()\n",
    "print(\"Execution time\", end-start)"
   ]
  },
  {
   "cell_type": "code",
   "execution_count": null,
   "metadata": {
    "colab": {
     "base_uri": "https://localhost:8080/",
     "height": 390
    },
    "id": "wj952lYV05Rs",
    "outputId": "a282ba60-a460-4425-9fa3-1348a8dba834"
   },
   "outputs": [],
   "source": [
    "acc = history.history['accuracy']\n",
    "val_acc = history.history['val_accuracy']\n",
    "\n",
    "loss = history.history['loss']\n",
    "val_loss = history.history['val_loss']\n",
    "\n",
    "epochs_range = range(len(history.history['accuracy']))\n",
    "\n",
    "plt.figure(figsize=(18, 6))\n",
    "plt.subplot(1, 2, 1)\n",
    "plt.plot(range(len(history.history['accuracy'])), acc, label='Training Accuracy')\n",
    "plt.plot(epochs_range, val_acc, label='Validation Accuracy')\n",
    "plt.legend(loc='upper right')\n",
    "plt.title('Training and Validation Accuracy')\n",
    "\n",
    "plt.subplot(1, 2, 2)\n",
    "plt.plot(epochs_range, loss, label='Training Loss')\n",
    "plt.plot(epochs_range, val_loss, label='Validation Loss')\n",
    "plt.legend(loc='upper right')\n",
    "plt.title('Training and Validation Loss')\n",
    "plt.show()"
   ]
  },
  {
   "cell_type": "code",
   "execution_count": null,
   "metadata": {
    "colab": {
     "base_uri": "https://localhost:8080/"
    },
    "id": "GK1Jq1ap05Ov",
    "outputId": "670a9365-f960-4c92-d5b9-5ca3328781a3"
   },
   "outputs": [],
   "source": [
    "# evaluating the model\n",
    "model_evaluation = model.evaluate(testGen)"
   ]
  },
  {
   "cell_type": "code",
   "execution_count": null,
   "metadata": {
    "colab": {
     "base_uri": "https://localhost:8080/"
    },
    "id": "0IL-ZhHO05L2",
    "outputId": "66afcf9a-d3db-496a-ac19-feccfaca7797"
   },
   "outputs": [],
   "source": [
    "print(f\"Model Accuracy:{model_evaluation[1] *100: 0.2f} %\") #Calculating accuracy"
   ]
  },
  {
   "cell_type": "markdown",
   "metadata": {
    "id": "P_R_I9ADzXzj"
   },
   "source": [
    "##DenseNet201"
   ]
  },
  {
   "cell_type": "code",
   "execution_count": null,
   "metadata": {
    "id": "Uc352HPdz10Q"
   },
   "outputs": [],
   "source": [
    "from keras.applications.densenet import DenseNet201 #importing libraries"
   ]
  },
  {
   "cell_type": "code",
   "execution_count": null,
   "metadata": {
    "colab": {
     "base_uri": "https://localhost:8080/"
    },
    "id": "oGcPLcSpVRPU",
    "outputId": "ca247a12-0400-4d38-f635-04426a2d5793"
   },
   "outputs": [],
   "source": [
    "#creating model\n",
    "base_model=DenseNet201(input_shape=(224,224,3),include_top=False,weights='imagenet')\n",
    "\n",
    "for layer in base_model.layers:\n",
    "  layer.trainable=False\n",
    "\n",
    "x=Flatten()(base_model.output)\n",
    "x=Dense(1024,activation='relu')(x)\n",
    "x=Dropout(0.4)(x)\n",
    "x=Dense(1024,activation='relu')(x)\n",
    "out=Dense(4,activation='softmax')(x)\n",
    "\n",
    "model=Model(inputs=base_model.inputs,outputs=out)\n",
    "model.summary()"
   ]
  },
  {
   "cell_type": "code",
   "execution_count": null,
   "metadata": {
    "id": "_jD9oPc8VRMG"
   },
   "outputs": [],
   "source": [
    "#adding early stopping as callback and compiling model\n",
    "callbacks=[EarlyStopping(monitor='val_loss',patience=10)]\n",
    "\n",
    "model.compile(loss=\"categorical_crossentropy\",optimizer=\"Adam\",metrics=[\"accuracy\"])"
   ]
  },
  {
   "cell_type": "code",
   "execution_count": null,
   "metadata": {
    "colab": {
     "base_uri": "https://localhost:8080/"
    },
    "id": "wy08meMgVRIT",
    "outputId": "38d45598-87c3-44a0-b43d-1e6a676a90c3"
   },
   "outputs": [],
   "source": [
    "#creating training and validation steps based on batch size\n",
    "steps_per_epochs=trainGen.samples//128\n",
    "print(steps_per_epochs)\n",
    "validation_steps_=valGen.samples//128\n",
    "print(validation_steps_)"
   ]
  },
  {
   "cell_type": "code",
   "execution_count": null,
   "metadata": {
    "colab": {
     "base_uri": "https://localhost:8080/"
    },
    "id": "GXHQEqKnVREt",
    "outputId": "6d4b21a7-946b-4f32-b924-de72a6fe9a87"
   },
   "outputs": [],
   "source": [
    "#training model and calculating execution time\n",
    "start = time.time()\n",
    "history=model.fit(trainGen,validation_data=valGen,epochs=50,callbacks=callbacks, verbose=1)\n",
    "end = time.time()\n",
    "print(\"Execution time\", end-start)"
   ]
  },
  {
   "cell_type": "code",
   "execution_count": null,
   "metadata": {
    "colab": {
     "base_uri": "https://localhost:8080/",
     "height": 390
    },
    "id": "0wIM4bIsVRA3",
    "outputId": "eb5616fe-8c16-4c6b-ab54-22dd3d6b9196"
   },
   "outputs": [],
   "source": [
    "#plotting accuracy and loss graph\n",
    "acc = history.history['accuracy']\n",
    "val_acc = history.history['val_accuracy']\n",
    "\n",
    "loss = history.history['loss']\n",
    "val_loss = history.history['val_loss']\n",
    "\n",
    "epochs_range = range(len(history.history['accuracy']))\n",
    "\n",
    "plt.figure(figsize=(18, 6))\n",
    "plt.subplot(1, 2, 1)\n",
    "plt.plot(range(len(history.history['accuracy'])), acc, label='Training Accuracy')\n",
    "plt.plot(epochs_range, val_acc, label='Validation Accuracy')\n",
    "plt.legend(loc='upper right')\n",
    "plt.title('Training and Validation Accuracy')\n",
    "\n",
    "plt.subplot(1, 2, 2)\n",
    "plt.plot(epochs_range, loss, label='Training Loss')\n",
    "plt.plot(epochs_range, val_loss, label='Validation Loss')\n",
    "plt.legend(loc='upper right')\n",
    "plt.title('Training and Validation Loss')\n",
    "plt.show()"
   ]
  },
  {
   "cell_type": "code",
   "execution_count": null,
   "metadata": {
    "colab": {
     "base_uri": "https://localhost:8080/"
    },
    "id": "NFnnY_Vg8DZJ",
    "outputId": "a7379af7-d52f-45ef-dba5-ba9522ac80ee"
   },
   "outputs": [],
   "source": [
    "# evaluatinn the model\n",
    "model_evaluation = model.evaluate(testGen)"
   ]
  },
  {
   "cell_type": "code",
   "execution_count": null,
   "metadata": {
    "colab": {
     "base_uri": "https://localhost:8080/"
    },
    "id": "rp2IPDDWlwuk",
    "outputId": "406daca0-6d3b-49bc-be70-36ed980b0d89"
   },
   "outputs": [],
   "source": [
    "print(f\"Model Accuracy:{model_evaluation[1] *100: 0.2f} %\") #Calculating accuracy"
   ]
  },
  {
   "cell_type": "markdown",
   "metadata": {
    "id": "pl1k3KfG4fpP"
   },
   "source": [
    "# ClassifierAnalysis"
   ]
  },
  {
   "cell_type": "markdown",
   "metadata": {
    "id": "h9rjo-i055lI"
   },
   "source": [
    "##PreProcessing"
   ]
  },
  {
   "cell_type": "code",
   "execution_count": null,
   "metadata": {
    "id": "rO8JtAI_4k5V"
   },
   "outputs": [],
   "source": [
    "train_dir=\"/content/gdrive/MyDrive/RM-Project/Training\"\n",
    "test_dir=\"/content/gdrive/MyDrive/RM-Project/Testing\""
   ]
  },
  {
   "cell_type": "code",
   "execution_count": null,
   "metadata": {
    "id": "g9hdbuyQ4s4A"
   },
   "outputs": [],
   "source": [
    "import numpy as np\n",
    "from sklearn.metrics import classification_report,confusion_matrix\n",
    "import time\n",
    "import matplotlib.pyplot as plt"
   ]
  },
  {
   "cell_type": "code",
   "execution_count": null,
   "metadata": {
    "colab": {
     "base_uri": "https://localhost:8080/"
    },
    "id": "S9W7uCdQ4wDD",
    "outputId": "644024c2-7257-4632-d20b-7a6582e8b4d5"
   },
   "outputs": [],
   "source": [
    "from keras.preprocessing.image import ImageDataGenerator\n",
    "trainDataGen=ImageDataGenerator(\n",
    "    rescale=1./255,\n",
    "    validation_split=0.1,\n",
    "    zoom_range=0.2,\n",
    "    \n",
    "    \n",
    ")\n",
    "testDataGen=ImageDataGenerator(rescale=1./255)\n",
    "\n",
    "trainGen=trainDataGen.flow_from_directory(train_dir,\n",
    "                                          target_size=(224,224),\n",
    "                                          color_mode='rgb',\n",
    "                                          class_mode='categorical',\n",
    "                                          batch_size=128,\n",
    "                                          subset='training'\n",
    "                                         )\n",
    "testGen=testDataGen.flow_from_directory(test_dir, target_size=(224,224),color_mode='rgb',class_mode='categorical',batch_size=1)\n",
    "\n",
    "valGen=trainDataGen.flow_from_directory(train_dir, target_size=(224,224),color_mode='rgb',class_mode='categorical',batch_size=128,subset='validation')"
   ]
  },
  {
   "cell_type": "code",
   "execution_count": null,
   "metadata": {
    "colab": {
     "base_uri": "https://localhost:8080/"
    },
    "id": "yRAGpQh94xHO",
    "outputId": "04a15ce7-fc40-41ab-c947-dd07ac9a4ddc"
   },
   "outputs": [],
   "source": [
    "train_y = []\n",
    "for i in range(len(trainGen)):\n",
    "  for j in range(len(trainGen[i])):\n",
    "    if j == 1:\n",
    "      for k in trainGen[i][j]:\n",
    "        train_y.append(k)\n",
    "print(train_y[0])"
   ]
  },
  {
   "cell_type": "code",
   "execution_count": null,
   "metadata": {
    "colab": {
     "base_uri": "https://localhost:8080/"
    },
    "id": "6gWZtNA_4y7u",
    "outputId": "440a190a-e483-46bc-df74-4599f1185ba6"
   },
   "outputs": [],
   "source": [
    "test_y = []\n",
    "for i in range(len(testGen)):\n",
    "  for j in range(len(testGen[i])):\n",
    "    if j == 1:\n",
    "      for k in testGen[i][j]:\n",
    "        test_y.append(k)\n",
    "print(test_y[0])"
   ]
  },
  {
   "cell_type": "code",
   "execution_count": null,
   "metadata": {
    "colab": {
     "base_uri": "https://localhost:8080/"
    },
    "id": "sR1Mzvi943Cm",
    "outputId": "9054dba9-281e-49d0-9c90-31ca38cb50fd"
   },
   "outputs": [],
   "source": [
    "from keras.models import Model\n",
    "from keras.layers.core import Flatten, Dense, Dropout\n",
    "from keras.layers import Conv2D, MaxPooling2D,Input,AveragePooling2D, MaxPool2D\n",
    "from keras.applications.densenet import DenseNet201\n",
    "\n",
    "base_model=DenseNet201(input_shape=(224,224,3),include_top=False,weights='imagenet')\n",
    "\n",
    "for layer in base_model.layers:\n",
    "  layer.trainable=False\n",
    "\n",
    "model = base_model.output\n",
    "model = MaxPool2D(pool_size=(2,2))(model)\n",
    "model = Dropout(0.5)(model)\n",
    "model = Flatten()(model)\n",
    "model = Model(inputs=base_model.input, outputs=model)\n",
    "model.summary()"
   ]
  },
  {
   "cell_type": "code",
   "execution_count": null,
   "metadata": {
    "id": "c_w-Zvwe46ar"
   },
   "outputs": [],
   "source": [
    "from keras.callbacks import EarlyStopping, ModelCheckpoint\n",
    "\n",
    "callbacks=[EarlyStopping(monitor='val_loss',patience=10)]\n",
    "\n",
    "model.compile(loss=\"categorical_crossentropy\",optimizer=\"Adam\",metrics=[\"accuracy\"])"
   ]
  },
  {
   "cell_type": "code",
   "execution_count": null,
   "metadata": {
    "colab": {
     "base_uri": "https://localhost:8080/"
    },
    "id": "R5rYmpeq48sV",
    "outputId": "0d3b2ad0-5867-4a8a-87f7-c7ec8834868f"
   },
   "outputs": [],
   "source": [
    "x_mod = model.predict(trainGen)"
   ]
  },
  {
   "cell_type": "code",
   "execution_count": null,
   "metadata": {
    "colab": {
     "base_uri": "https://localhost:8080/"
    },
    "id": "S2QJ_Wyb49Tq",
    "outputId": "777d4355-788e-44b4-f7cd-f8da19957f1f"
   },
   "outputs": [],
   "source": [
    "x_mod.shape"
   ]
  },
  {
   "cell_type": "code",
   "execution_count": null,
   "metadata": {
    "id": "Xbee-n3u4-0A"
   },
   "outputs": [],
   "source": [
    "y_train_up1 = np.argmax(train_y, axis=-1)"
   ]
  },
  {
   "cell_type": "code",
   "execution_count": null,
   "metadata": {
    "colab": {
     "base_uri": "https://localhost:8080/"
    },
    "id": "MRInVhrh5AfK",
    "outputId": "3860b1e6-a22a-469e-b926-f43536cf660c"
   },
   "outputs": [],
   "source": [
    "x_testpred = model.predict(testGen)\n",
    "x_testpred.shape"
   ]
  },
  {
   "cell_type": "code",
   "execution_count": null,
   "metadata": {
    "id": "df1DWSs55CKd"
   },
   "outputs": [],
   "source": [
    "y_test_up1 = np.argmax(test_y, axis=-1)"
   ]
  },
  {
   "cell_type": "markdown",
   "metadata": {
    "id": "uyAbmKDZ5HJU"
   },
   "source": [
    "##SVM"
   ]
  },
  {
   "cell_type": "code",
   "execution_count": null,
   "metadata": {
    "id": "Ui7TIeJe5EGq"
   },
   "outputs": [],
   "source": [
    "from sklearn import svm "
   ]
  },
  {
   "cell_type": "code",
   "execution_count": null,
   "metadata": {
    "id": "jCjbHxF7Vvej"
   },
   "outputs": [],
   "source": [
    "import seaborn as sns"
   ]
  },
  {
   "cell_type": "code",
   "execution_count": null,
   "metadata": {
    "colab": {
     "base_uri": "https://localhost:8080/"
    },
    "id": "_e6emX1m5JHY",
    "outputId": "13be2072-4369-40ec-b1c0-7fce2d36e197"
   },
   "outputs": [],
   "source": [
    "svm_lin = svm.SVC(C=1.0, kernel='linear') #specifying linear kernel for SVM\n",
    "start = time.time()\n",
    "svm_lin.fit(x_mod, y_train_up1) #fit the model\n",
    "end = time.time()\n",
    "print(\"Execution time:\", end-start)\n",
    "y_pred = svm_lin.predict(x_testpred) #predicting the model\n",
    "print(classification_report(y_test_up1, y_pred))"
   ]
  },
  {
   "cell_type": "code",
   "execution_count": null,
   "metadata": {
    "colab": {
     "base_uri": "https://localhost:8080/"
    },
    "id": "gjA5Phqo5Myb",
    "outputId": "f325eefd-b4aa-4a1d-b562-1e1e4065e48f"
   },
   "outputs": [],
   "source": [
    "print(confusion_matrix(y_test_up1,y_pred)) #confusion matrix"
   ]
  },
  {
   "cell_type": "code",
   "execution_count": null,
   "metadata": {
    "colab": {
     "base_uri": "https://localhost:8080/",
     "height": 464
    },
    "id": "dRN4O1Fs5O79",
    "outputId": "f180a42b-a120-4beb-9288-f19b7d5b9a80"
   },
   "outputs": [],
   "source": [
    "#Heatmap of confusion matrix\n",
    "fig,ax=plt.subplots(1,1,figsize=(14,7))\n",
    "sns.heatmap(confusion_matrix(y_test_up1,y_pred),ax=ax,annot=True,\n",
    "           linewidths=2, cmap='Blues')\n",
    "fig.text(s='Heatmap of the Confusion Matrix',size=18,fontweight='bold',\n",
    "             fontname='monospace',y=0.92,x=0.28,)\n",
    "\n",
    "plt.show()"
   ]
  },
  {
   "cell_type": "code",
   "execution_count": null,
   "metadata": {
    "colab": {
     "base_uri": "https://localhost:8080/"
    },
    "id": "AXrE8wfH5Z5q",
    "outputId": "5356a306-305d-49eb-f761-b05b714ecb67"
   },
   "outputs": [],
   "source": [
    "#calculating accuracy\n",
    "count = 0\n",
    "for i in range(len(y_pred)):\n",
    "  if y_pred[i] == y_test_up1[i]:\n",
    "    count +=1\n",
    "print(\"Accuracy is :\", (count/len(y_pred)))"
   ]
  },
  {
   "cell_type": "markdown",
   "metadata": {
    "id": "3GJ7_JSC5RYU"
   },
   "source": [
    "##Random Forest"
   ]
  },
  {
   "cell_type": "code",
   "execution_count": null,
   "metadata": {
    "id": "GbKdBdm_5Ted"
   },
   "outputs": [],
   "source": [
    "from sklearn.ensemble import RandomForestClassifier"
   ]
  },
  {
   "cell_type": "code",
   "execution_count": null,
   "metadata": {
    "id": "9WMr5ukj5a07"
   },
   "outputs": [],
   "source": [
    "RF = RandomForestClassifier(n_estimators=50, random_state=42) #specifying random forest with 50 trees to be considered for estimation"
   ]
  },
  {
   "cell_type": "code",
   "execution_count": null,
   "metadata": {
    "colab": {
     "base_uri": "https://localhost:8080/"
    },
    "id": "BpHOSU1Y5dku",
    "outputId": "4fb73641-0d22-4856-86d0-91b1472081e6"
   },
   "outputs": [],
   "source": [
    "start = time.time()\n",
    "RF.fit(x_mod,y_train_up1)\n",
    "end = time.time()\n",
    "print(\"Execution time:\", end-start)"
   ]
  },
  {
   "cell_type": "code",
   "execution_count": 32,
   "metadata": {
    "id": "XmKMwNFw5fck"
   },
   "outputs": [],
   "source": [
    "pred_RF = RF.predict(x_testpred)"
   ]
  },
  {
   "cell_type": "code",
   "execution_count": 33,
   "metadata": {
    "colab": {
     "base_uri": "https://localhost:8080/"
    },
    "id": "6RhvwwOm5hCd",
    "outputId": "7f84b6a6-07b2-453e-9177-ce3f7e5e6751"
   },
   "outputs": [
    {
     "name": "stdout",
     "output_type": "stream",
     "text": [
      "              precision    recall  f1-score   support\n",
      "\n",
      "           0       0.69      0.18      0.29       100\n",
      "           1       0.60      0.75      0.67       115\n",
      "           2       0.72      0.86      0.78       105\n",
      "           3       0.63      0.85      0.72        74\n",
      "\n",
      "    accuracy                           0.65       394\n",
      "   macro avg       0.66      0.66      0.61       394\n",
      "weighted avg       0.66      0.65      0.61       394\n",
      "\n"
     ]
    }
   ],
   "source": [
    "print(classification_report(y_test_up1, pred_RF))"
   ]
  },
  {
   "cell_type": "code",
   "execution_count": 34,
   "metadata": {
    "colab": {
     "base_uri": "https://localhost:8080/"
    },
    "id": "5n_arpHu5ipZ",
    "outputId": "fbd54716-bfe4-401c-8157-b24789fee6bc"
   },
   "outputs": [
    {
     "name": "stdout",
     "output_type": "stream",
     "text": [
      "Accuracy is : 0.6522842639593909\n"
     ]
    }
   ],
   "source": [
    "count = 0\n",
    "for i in range(len(pred_RF)):\n",
    "  if pred_RF[i] == y_test_up1[i]:\n",
    "    count +=1\n",
    "print(\"Accuracy is :\", (count/len(pred_RF)))"
   ]
  },
  {
   "cell_type": "markdown",
   "metadata": {
    "id": "4lthACaz5lil"
   },
   "source": [
    "##KNN"
   ]
  },
  {
   "cell_type": "code",
   "execution_count": 35,
   "metadata": {
    "id": "_Bok84GI5nog"
   },
   "outputs": [],
   "source": [
    "from sklearn.neighbors import KNeighborsClassifier"
   ]
  },
  {
   "cell_type": "code",
   "execution_count": 36,
   "metadata": {
    "id": "wh4g6Qh65qnq"
   },
   "outputs": [],
   "source": [
    "neigh = KNeighborsClassifier(n_neighbors=3) #specifying 3 nearest neighbor for knn"
   ]
  },
  {
   "cell_type": "code",
   "execution_count": 37,
   "metadata": {
    "colab": {
     "base_uri": "https://localhost:8080/"
    },
    "id": "ufmB-b8U5saj",
    "outputId": "2230faa1-00ba-405d-ed2b-6b3ecffc60d5"
   },
   "outputs": [
    {
     "name": "stdout",
     "output_type": "stream",
     "text": [
      "Execution time: 0.033570289611816406\n"
     ]
    }
   ],
   "source": [
    "start = time.time()\n",
    "neigh.fit(x_mod,y_train_up1)\n",
    "end = time.time()\n",
    "print(\"Execution time:\", end-start)"
   ]
  },
  {
   "cell_type": "code",
   "execution_count": 38,
   "metadata": {
    "id": "HTkyxrJC5t8X"
   },
   "outputs": [],
   "source": [
    "out_KNN = neigh.predict(x_testpred)"
   ]
  },
  {
   "cell_type": "code",
   "execution_count": 39,
   "metadata": {
    "colab": {
     "base_uri": "https://localhost:8080/"
    },
    "id": "_UCS_8dE5vzp",
    "outputId": "b4ab0a67-eb41-4e1a-8961-1db3ee617165"
   },
   "outputs": [
    {
     "name": "stdout",
     "output_type": "stream",
     "text": [
      "              precision    recall  f1-score   support\n",
      "\n",
      "           0       0.67      0.32      0.43       100\n",
      "           1       0.70      0.70      0.70       115\n",
      "           2       0.75      0.90      0.82       105\n",
      "           3       0.58      0.84      0.69        74\n",
      "\n",
      "    accuracy                           0.68       394\n",
      "   macro avg       0.67      0.69      0.66       394\n",
      "weighted avg       0.68      0.68      0.66       394\n",
      "\n"
     ]
    }
   ],
   "source": [
    "print(classification_report(y_test_up1, out_KNN))"
   ]
  },
  {
   "cell_type": "code",
   "execution_count": 40,
   "metadata": {
    "colab": {
     "base_uri": "https://localhost:8080/"
    },
    "id": "-RGL1zLV5yWi",
    "outputId": "ea80a99a-6777-4116-c775-09793dd2ee61"
   },
   "outputs": [
    {
     "name": "stdout",
     "output_type": "stream",
     "text": [
      "Accuracy is : 0.6802030456852792\n"
     ]
    }
   ],
   "source": [
    "count = 0\n",
    "for i in range(len(out_KNN)):\n",
    "  if out_KNN[i] == y_test_up1[i]:\n",
    "    count +=1\n",
    "print(\"Accuracy is :\", (count/len(out_KNN)))"
   ]
  }
 ],
 "metadata": {
  "accelerator": "GPU",
  "colab": {
   "collapsed_sections": [
    "dcPCMEIH0a9X",
    "8EE68TTy3fxy",
    "M5cjeulx3D_C",
    "FHPD2IuI2rZ6",
    "_1JsLrU417pT",
    "aw3WsmB60fXH",
    "P_R_I9ADzXzj",
    "h9rjo-i055lI"
   ],
   "provenance": []
  },
  "kernelspec": {
   "display_name": "Python 3 (ipykernel)",
   "language": "python",
   "name": "python3"
  },
  "language_info": {
   "codemirror_mode": {
    "name": "ipython",
    "version": 3
   },
   "file_extension": ".py",
   "mimetype": "text/x-python",
   "name": "python",
   "nbconvert_exporter": "python",
   "pygments_lexer": "ipython3",
   "version": "3.9.12"
  }
 },
 "nbformat": 4,
 "nbformat_minor": 4
}
